{
  "cells": [
    {
      "cell_type": "markdown",
      "metadata": {},
      "source": [
        "# Gaussian Plot\n",
        "Run the cell below, then save the notebook to record outputs."
      ]
    },
    {
      "cell_type": "code",
      "execution_count": null,
      "metadata": {},
      "outputs": [],
      "source": [
        "import numpy as np\n",
        "import matplotlib.pyplot as plt\n",
        "\n",
        "x = np.linspace(-4, 4, 400)\n",
        "mu, sigma = 0.0, 1.0\n",
        "y = (1/np.sqrt(2*np.pi*sigma**2)) * np.exp(-((x-mu)**2) / (2*sigma**2))\n",
        "\n",
        "plt.figure(figsize=(6,4))\n",
        "plt.plot(x, y, label='Gaussian μ=0, σ=1')\n",
        "plt.title('Gaussian (Normal) Distribution')\n",
        "plt.xlabel('x')\n",
        "plt.ylabel('density')\n",
        "plt.grid(True, alpha=0.3)\n",
        "plt.legend()\n",
        "plt.tight_layout()\n",
        "plt.show()\n"
      ]
    }
  ],
  "metadata": {
    "kernelspec": {
      "display_name": "Python 3",
      "language": "python",
      "name": "python3"
    },
    "language_info": {
      "codemirror_mode": {
        "name": "ipython",
        "version": 3
      },
      "file_extension": ".py",
      "mimetype": "text/x-python",
      "name": "python",
      "nbconvert_exporter": "python",
      "pygments_lexer": "ipython3",
      "version": "3.11.9"
    }
  },
  "nbformat": 4,
  "nbformat_minor": 5
}
